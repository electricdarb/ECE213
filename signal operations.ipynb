{
 "cells": [
  {
   "cell_type": "markdown",
   "metadata": {},
   "source": [
    "<h2> By Bradford Gill </h2>\n",
    "\n",
    "This is program is meant to help students understand signal operations. I am currently a sophomore at Umass Amherst. This is meant to go along with topics covered in ECE 213. If you notice any errors or have any suggestions please email me: bradfordgill@umass.edu"
   ]
  },
  {
   "cell_type": "code",
   "execution_count": 82,
   "metadata": {},
   "outputs": [],
   "source": [
    "import matplotlib \n",
    "from matplotlib import pyplot as plt\n",
    "from matplotlib import patches\n",
    "import numpy as np\n",
    "from numpy import heaviside as u\n",
    "from ipywidgets import interact\n",
    "import ipywidgets as widgets"
   ]
  },
  {
   "cell_type": "markdown",
   "metadata": {},
   "source": [
    "\n",
    "This is an Ipython file run in jupyter notebooks. Jupyter notebook is commonly used for \n",
    "scripting and data vis. Instead of Python, this is IPython, an interactive command-line\n",
    "terminal for Python. If you want to know more about IPython you can read more here: \n",
    "https://ipython.readthedocs.io/en/stable/interactive/python-ipython-diff.html\n",
    "\n"
   ]
  },
  {
   "cell_type": "code",
   "execution_count": 149,
   "metadata": {},
   "outputs": [
    {
     "data": {
      "application/vnd.jupyter.widget-view+json": {
       "model_id": "fc64b7ad9c16406bb0fb11e25a434785",
       "version_major": 2,
       "version_minor": 0
      },
      "text/plain": [
       "interactive(children=(FloatSlider(value=1.0, description='a', max=3.0, min=-1.0), FloatSlider(value=0.0, descr…"
      ]
     },
     "metadata": {},
     "output_type": "display_data"
    },
    {
     "data": {
      "text/plain": [
       "<function __main__.wave_operation(a, b, reverse_time=False)>"
      ]
     },
     "execution_count": 149,
     "metadata": {},
     "output_type": "execute_result"
    }
   ],
   "source": [
    "def wave_operation(a, b, reverse_time = False):\n",
    "    if reverse_time: \n",
    "        a = a*-1\n",
    "    N = 75 # number of points \n",
    "    x = np.linspace(-2*np.pi, 2*np.pi, N)\n",
    "    y0 = np.sin(x) # orignal function\n",
    "    y1 = np.sin(a*x + b)\n",
    "    plt.plot(x, y0, label = \"sin(t)\")\n",
    "    plt.plot(x, y1, label = \"sin({}*t + {})\".format(a, round(b, 2)))\n",
    "    \n",
    "    plt.legend( loc='upper right', borderaxespad=0.)\n",
    "    plt.title(\"Signal Translation Properties\")\n",
    "    plt.show()\n",
    "    \n",
    "interact(wave_operation, a = (-1, 3, .1), b =(-np.pi/2, np.pi/2, np.pi/30), reverse_time = False) #(min, max, step)"
   ]
  },
  {
   "cell_type": "markdown",
   "metadata": {},
   "source": [
    "You can see as \"b\" moves in the positive direction it shifts in the negitive direction, visa versa. This may initialy seem counterintuitive. However, if you examine the 0's of the function it makes sense. f(x) will have an input of 0 at x = 0, on the other hand f(x+b) will have an input of 0 at x = -b, (-b+b = 0). So you can see the function behaves as if it were 0 at x = -b, shifting the function towards the negitive direction by b. If b is negitive it will shift in the postive direction \n",
    "\n",
    "The behavior of \"a\" is slightly more complicated but is not hard to understand at all. Since a sine wave is periodic, it repeats it self after a certian time. Play around with the toggle for \"a\", notice how as \"a\" increases the function seems to strink in. This is because as you increase \"a\" the input into the sine function grows faster, causing the input to reach its period faster. For example; the period of sin(x) is 2pi. Now if you multiple the input by 2, your equation is now sin(2*x), you can that the period of this will be pi becuase the input into sin(2*x) will be double the input into sin(x). \n"
   ]
  },
  {
   "cell_type": "code",
   "execution_count": 107,
   "metadata": {},
   "outputs": [
    {
     "data": {
      "application/vnd.jupyter.widget-view+json": {
       "model_id": "1507fc4433794694b346344f81642545",
       "version_major": 2,
       "version_minor": 0
      },
      "text/plain": [
       "interactive(children=(FloatSlider(value=1.0, description='a0', max=3.0, min=-3.0, step=0.4), FloatSlider(value…"
      ]
     },
     "metadata": {},
     "output_type": "display_data"
    },
    {
     "data": {
      "text/plain": [
       "<function __main__.step_functions(a0, b0, time_reverse0, a1, b1, time_reverse1, a2, b2, time_reverse2)>"
      ]
     },
     "execution_count": 107,
     "metadata": {},
     "output_type": "execute_result"
    }
   ],
   "source": [
    "def step_functions(a0, b0, time_reverse0, a1, b1, time_reverse1, a2, b2, time_reverse2): # a is a list of multiplers while b is a list of adders, both len 5\n",
    "    N = 50 # number of points\n",
    "    l = 3 # number of step functions\n",
    "    x = np.linspace(-5, 5, N)\n",
    "    y = np.zeros(N)\n",
    "    a = [a0, a1, a2]\n",
    "    b = [b0, b1, b2]\n",
    "    t_rev = [time_reverse0, time_reverse1, time_reverse2]\n",
    "    k = [1]*l # k is used in time reversal \n",
    "    for i in range(l): \n",
    "        if not t_rev[i]:\n",
    "            k[i] = -1\n",
    "    for i in range(len(y)):\n",
    "        for j in range(len(a)): #O(n) (not avoidable)\n",
    "            y[i] += a[j]*u(x[i]*k[j] + b[j], 0)\n",
    "    plt.plot(x,y)\n",
    "    plt.ylim((-3, 6))\n",
    "    title = \"y(t) = \"\n",
    "    for i in range(l-1):\n",
    "        title += \"{}*u(t + {}) + \".format(a[i], round(b[i], 3))\n",
    "    title += \"{}*u(t + {})\".format(a[l-1], round(b[l-1], 3))\n",
    "    plt.title(title)\n",
    "    \n",
    "step =.4\n",
    "blims = (-5, 5, step) # (min, max, step)\n",
    "\n",
    "interact(step_functions, a0 = widgets.FloatSlider(min=-3, max=3, step = step, value=1), b0 = blims, time_reverse0 = False,\n",
    "         a1 = widgets.FloatSlider(min=-3, max=3, step= step, value=1), b1 = blims, time_reverse1 = False,\n",
    "         a2 = widgets.FloatSlider(min=-3, max=3, step= step, value=1), b2  = blims, time_reverse2 = False)"
   ]
  },
  {
   "cell_type": "markdown",
   "metadata": {},
   "source": [
    "It might be use full to play around with step functions as they are vital in signal processing. Try to creat a table, stairs, and maybe a square wave (think about how this could be represnted mathematically, hint: series). Logic at use here can be applied to later topics such as the fourier transform and topics from differential equations such as laplace. If you are curiuos, I encourage you to read more. Wikipedia is gernerally a good start if you want to learn more about something you know little about. https://en.wikipedia.org/wiki/Step_function\n",
    "\n"
   ]
  },
  {
   "cell_type": "markdown",
   "metadata": {},
   "source": [
    "\n",
    "<h2>Dirac Delta Function</h2>\n",
    "\n",
    "the dirac delta function {\\delta}(x) is not actually a function, rather an abstract mathematical idea. In appproximations it can be thought of as a limit. It\n",
    "can seem rather confusing at first, not to mention the importance and application of the 'function' are not immediately apperent. \n",
    "\n",
    "The function can thought of as a conditional\n",
    "\n",
    "if x = 0:\n",
    "    ${\\delta}$(x) = ${\\infty}$,  \n",
    "else:\n",
    "    ${\\delta}$(x) = 0\n",
    "    \n",
    "it is also important to know the the integral of the function from -${\\infty}$ to ${\\infty}$= 1. \n",
    "\n",
    "$\\int_{-\\infty}^{\\infty} {\\delta}$(x) dx = 1\n",
    "\n",
    "Now knowing that, remember from before how a when you multipled the input of a function by a factor 'a'  (f(x) ${\\rightarrow}$ f(a*x))   the function shrunk in the x plane by a factor of ${\\frac\n",
    "1\n",
    "a\n",
    "}$. When you do this to ${\\delta}$, the function remians 0 everywhere that x does not equal 0, however, the functions integral from -${\\infty}$ to ${\\infty}$ strinks by a factor of ${\\frac\n",
    "1\n",
    "a\n",
    "}$.\n",
    "\n",
    "\n",
    "${\\int_{-\\infty}^{\\infty} {\\delta}}$(a*x) dx = ${\\frac\n",
    "1\n",
    "a\n",
    "}$.\n",
    "\n",
    "If you are confused becuase ${\\delta}$(x) still equals ${\\infty}$ at 0 and every other point. You probably think that since the modified function ${\\delta}$ (a*x) can be expressed through the same piece wise function as before, it should have the same integral values. Well no, remember how ${\\delta}$ isnt a function, but more of a limit. Now imagine that the function is a bell curve type function called f(x), if you multiply the input of f(x) by a constant 'a', f(a*x), the function will shrink in by a factor of ${\\frac\n",
    "1\n",
    "a\n",
    "}$. In the interactive excersizd below you can. See for yourself, as you change 'a' you will see the area under the curve change accordingly. ${\\delta}$(x) behaves in this same way.\n"
   ]
  },
  {
   "cell_type": "code",
   "execution_count": 147,
   "metadata": {},
   "outputs": [
    {
     "data": {
      "application/vnd.jupyter.widget-view+json": {
       "model_id": "fcf949a6b82942fb8f4ca193c954a3d3",
       "version_major": 2,
       "version_minor": 0
      },
      "text/plain": [
       "interactive(children=(FloatSlider(value=2.0, description='a', max=5.0, step=0.2), FloatSlider(value=25.0, desc…"
      ]
     },
     "metadata": {},
     "output_type": "display_data"
    },
    {
     "data": {
      "text/plain": [
       "<function __main__.delta_approx(a, height)>"
      ]
     },
     "execution_count": 147,
     "metadata": {},
     "output_type": "execute_result"
    }
   ],
   "source": [
    "def delta_approx(a, height):\n",
    "    N = 400\n",
    "    xlim = (-10, 10)\n",
    "    x = np.linspace(xlim[0], xlim[1], N)\n",
    "    y = height * np.exp(-(a*x)**2)\n",
    "    dt = x[1] - x[0]\n",
    "    A = sum(y)*dt\n",
    "    \n",
    "    plt.plot(x, y)\n",
    "    plt.ylim(0, 50)\n",
    "    plt.xlim(xlim)\n",
    "    \n",
    "    plt.title(\"Area under curve: {}\".format(round(A, 2)))\n",
    "    plt.show() \n",
    "    \n",
    "interact(delta_approx, a = (0, 5, .2), height = (0, 50, .5) )\n",
    "    "
   ]
  },
  {
   "cell_type": "markdown",
   "metadata": {},
   "source": [
    "Notice how area under the curve changes as a changes reguardless of the height. Now imagine that height and a both approach infinity, they can never quite get there but they are approaching infinity, hence a limit. The function will always have the little bit you can manipulate. So, you can now see how the integral of ${\\delta}$(a*x) will change proportionally to the inverse of a. \n",
    "\n",
    "If you would like to read more, read below. There are more accurate delta function approximations that can be found in the following websites. \n",
    "\n",
    "https://en.wikipedia.org/wiki/Fourier_inversion_theorem\n",
    "http://mathworld.wolfram.com/DeltaFunction.html\n"
   ]
  },
  {
   "cell_type": "code",
   "execution_count": 112,
   "metadata": {},
   "outputs": [
    {
     "data": {
      "text/plain": [
       "22026.465794806718"
      ]
     },
     "execution_count": 112,
     "metadata": {},
     "output_type": "execute_result"
    }
   ],
   "source": [
    "np.exp(10)"
   ]
  },
  {
   "cell_type": "code",
   "execution_count": null,
   "metadata": {},
   "outputs": [],
   "source": []
  }
 ],
 "metadata": {
  "kernelspec": {
   "display_name": "Python 3",
   "language": "python",
   "name": "python3"
  },
  "language_info": {
   "codemirror_mode": {
    "name": "ipython",
    "version": 3
   },
   "file_extension": ".py",
   "mimetype": "text/x-python",
   "name": "python",
   "nbconvert_exporter": "python",
   "pygments_lexer": "ipython3",
   "version": "3.7.3"
  }
 },
 "nbformat": 4,
 "nbformat_minor": 2
}
